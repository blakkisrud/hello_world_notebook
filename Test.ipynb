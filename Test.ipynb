{
 "cells": [
  {
   "cell_type": "code",
   "execution_count": 1,
   "metadata": {
    "collapsed": false
   },
   "outputs": [
    {
     "name": "stdout",
     "output_type": "stream",
     "text": [
      "Libs imported\n"
     ]
    }
   ],
   "source": [
    "import numpy as np\n",
    "import seaborn as sns\n",
    "import matplotlib.pyplot as plt\n",
    "\n",
    "print \"Libs imported\""
   ]
  },
  {
   "cell_type": "code",
   "execution_count": 2,
   "metadata": {
    "collapsed": false
   },
   "outputs": [
    {
     "name": "stdout",
     "output_type": "stream",
     "text": [
      "[[-0.51462537  0.03370944 -0.36366092 -0.2987136  -1.09276111]\n",
      " [-0.12052034  0.27924259 -0.83597403  0.37515617  1.03717136]\n",
      " [-0.60636573  0.68700735 -0.35622464  0.5795953   0.56494885]\n",
      " [ 0.03511696 -1.16032278  0.21716032  1.1102065  -0.51695795]\n",
      " [-0.78260783  0.90418282  1.60662806 -0.64830641 -0.54101053]]\n"
     ]
    }
   ],
   "source": [
    "# Setting up some data\n",
    "\n",
    "mock_data = np.random.randn(5,5)\n",
    "\n",
    "print mock_data"
   ]
  },
  {
   "cell_type": "code",
   "execution_count": 3,
   "metadata": {
    "collapsed": true
   },
   "outputs": [],
   "source": [
    "# Set up the plotting of the data\n",
    "\n",
    "plt.figure()\n",
    "\n",
    "sns.heatmap(mock_data)\n",
    "\n",
    "plt.show()"
   ]
  },
  {
   "cell_type": "code",
   "execution_count": null,
   "metadata": {
    "collapsed": true
   },
   "outputs": [],
   "source": []
  }
 ],
 "metadata": {
  "kernelspec": {
   "display_name": "Python 2",
   "language": "python",
   "name": "python2"
  },
  "language_info": {
   "codemirror_mode": {
    "name": "ipython",
    "version": 2
   },
   "file_extension": ".py",
   "mimetype": "text/x-python",
   "name": "python",
   "nbconvert_exporter": "python",
   "pygments_lexer": "ipython2",
   "version": "2.7.11"
  }
 },
 "nbformat": 4,
 "nbformat_minor": 0
}
