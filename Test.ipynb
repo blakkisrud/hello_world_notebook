{
 "cells": [
  {
   "cell_type": "code",
   "execution_count": 1,
   "metadata": {
    "collapsed": false
   },
   "outputs": [
    {
     "name": "stdout",
     "output_type": "stream",
     "text": [
      "Libs imported\n"
     ]
    }
   ],
   "source": [
    "import numpy as np\n",
    "import seaborn as sns\n",
    "import matplotlib.pyplot as plt\n",
    "from matplotlib.ticker import MultipleLocator, FormatStrFormatter\n",
    "import pandas as pd\n",
    "import scipy.io\n",
    "import os\n",
    "\n",
    "from IPython.display import Image, SVG, Math \n",
    "from IPython.display import (\n",
    "    display, display_html, display_png, display_svg\n",
    ")\n",
    "\n",
    "# Widget-import \n",
    "\n",
    "from __future__ import print_function\n",
    "from ipywidgets import interact, interactive, fixed\n",
    "import ipywidgets as widgets\n",
    "\n",
    "print(\"Libs imported\")\n",
    "\n",
    "def cut_off_and_clean_data(raw_data_matrix, cut_off):\n",
    "    \n",
    "    heat_map_data = np.around(raw_data_matrix, decimals = 2)\n",
    "    #size_of_data = np.shape(raw_data_matrix)\n",
    "    #mask = np.zeros([size_of_data[0], size_of_data[1]])\n",
    "    \n",
    "    I = [abs(num_data)>cut_off]\n",
    "    \n",
    "    #mask[I] = 1\n",
    "    \n",
    "    heat_map_data[I] = cut_off\n",
    "    \n",
    "    return heat_map_data\n",
    "    \n",
    "def return_arg(a):\n",
    "    \n",
    "    print(a)\n",
    "    \n",
    "    return a\n",
    "\n",
    "def plot_sin(f):\n",
    "    \n",
    "    plt.figure()\n",
    "    \n",
    "    t = np.arange(0.0, 1.0, 0.01)\n",
    "    plt.plot(t*f)\n",
    "    plt.show()\n",
    "\n",
    "\n",
    "\n"
   ]
  },
  {
   "cell_type": "code",
   "execution_count": 3,
   "metadata": {
    "collapsed": false
   },
   "outputs": [
    {
     "name": "stdout",
     "output_type": "stream",
     "text": [
      "Test of data import\n",
      "Test passed without crashing at least...\n"
     ]
    }
   ],
   "source": [
    "print(\"Test of data import\")\n",
    "\n",
    "#data_path = 'max_error_3.mat'\n",
    "\n",
    "#mat_data = scipy.io.loadmat(data_path)\n",
    "\n",
    "print (\"Test passed without crashing at least...\")\n",
    "\n",
    "#num_data = mat_data['max_error_across_patient']\n",
    "\n",
    "#num_data = np.transpose(num_data)\n",
    "\n",
    "cut_off_box = interactive(return_arg, a = 5)\n",
    "\n",
    "#plot_slider = interactive(plot_sin, f = 4)\n",
    "\n",
    "#display(plot_slider)\n",
    "\n",
    "#print(plot_slider.result)\n",
    "\n",
    "display(cut_off_box)\n",
    "\n",
    "#cleaned_data = cut_off_and_clean_data(num_data,cut_off_box.result)\n",
    "\n",
    "#print(cleaned_data)\n",
    "\n"
   ]
  },
  {
   "cell_type": "code",
   "execution_count": null,
   "metadata": {
    "collapsed": false
   },
   "outputs": [],
   "source": [
    "print(\"Functions\")\n",
    "\n",
    "def f(x):\n",
    "    return x\n",
    "\n",
    "print(\"Test of interact\")\n",
    "\n",
    "def f(a, b):\n",
    "    \n",
    "    return a+b\n",
    "\n",
    "def g(a):\n",
    "    \n",
    "    return a\n",
    "\n",
    "w = interactive(f, a=10, b=20)\n",
    "ww = interactive(g,a = True)\n",
    "\n",
    "print(type(w))\n",
    "\n",
    "display(w)\n",
    "display(ww)"
   ]
  },
  {
   "cell_type": "code",
   "execution_count": null,
   "metadata": {
    "collapsed": false
   },
   "outputs": [],
   "source": [
    "# Testing cell for the dynamics...\n",
    "\n",
    "print(ww.result)"
   ]
  },
  {
   "cell_type": "code",
   "execution_count": null,
   "metadata": {
    "collapsed": false
   },
   "outputs": [],
   "source": [
    "# Set up the plotting of the data\n",
    "\n",
    "foo = plt.figure()\n",
    "\n",
    "sns.heatmap(heat_map_canvas, square = True, annot = True, vmax = 10)\n",
    "\n",
    "#plt.title(ww.result)\n",
    "\n",
    "#plt.plot(np.ravel(heat_map_canvas))\n",
    "\n",
    "plt.show()"
   ]
  },
  {
   "cell_type": "code",
   "execution_count": null,
   "metadata": {
    "collapsed": false
   },
   "outputs": [],
   "source": [
    "print type(foo)"
   ]
  },
  {
   "cell_type": "code",
   "execution_count": null,
   "metadata": {
    "collapsed": false
   },
   "outputs": [],
   "source": [
    "display(foo)"
   ]
  },
  {
   "cell_type": "code",
   "execution_count": null,
   "metadata": {
    "collapsed": false
   },
   "outputs": [],
   "source": [
    "bar = display_png foo"
   ]
  },
  {
   "cell_type": "code",
   "execution_count": null,
   "metadata": {
    "collapsed": false
   },
   "outputs": [],
   "source": [
    "print type(bar)"
   ]
  }
 ],
 "metadata": {
  "kernelspec": {
   "display_name": "Python 2",
   "language": "python",
   "name": "python2"
  },
  "language_info": {
   "codemirror_mode": {
    "name": "ipython",
    "version": 2
   },
   "file_extension": ".py",
   "mimetype": "text/x-python",
   "name": "python",
   "nbconvert_exporter": "python",
   "pygments_lexer": "ipython2",
   "version": "2.7.11"
  }
 },
 "nbformat": 4,
 "nbformat_minor": 0
}
